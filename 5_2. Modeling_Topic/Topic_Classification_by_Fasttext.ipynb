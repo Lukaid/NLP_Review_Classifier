{
  "nbformat": 4,
  "nbformat_minor": 0,
  "metadata": {
    "colab": {
      "name": "Topic_Classification_by_Fasttext.ipynb",
      "provenance": [],
      "collapsed_sections": [],
      "toc_visible": true
    },
    "kernelspec": {
      "name": "python3",
      "display_name": "Python 3"
    },
    "language_info": {
      "name": "python"
    }
  },
  "cells": [
    {
      "cell_type": "code",
      "metadata": {
        "colab": {
          "base_uri": "https://localhost:8080/"
        },
        "id": "M5fLeNLSUgx0",
        "outputId": "6b1b55c1-3930-4f23-eac2-ee6d57f8b989"
      },
      "source": [
        "# KoNLPy 라이브러리 설치. 최초 1회만 실행\n",
        "!set - x \\\n",
        "&& pip install konlpy \\\n",
        "&& curl -s https://raw.githubusercontent.com/konlpy/konlpy/master/scripts/mecab.sh | bash -x\n",
        "\n",
        "!apt install pyLDAvis.gensim\n",
        "\n",
        "from konlpy.tag import Mecab\n",
        "from gensim.models import FastText\n",
        "import pandas as pd\n"
      ],
      "execution_count": null,
      "outputs": [
        {
          "output_type": "stream",
          "text": [
            "Requirement already satisfied: konlpy in /usr/local/lib/python3.7/dist-packages (0.5.2)\n",
            "Requirement already satisfied: lxml>=4.1.0 in /usr/local/lib/python3.7/dist-packages (from konlpy) (4.2.6)\n",
            "Requirement already satisfied: numpy>=1.6 in /usr/local/lib/python3.7/dist-packages (from konlpy) (1.19.5)\n",
            "Requirement already satisfied: beautifulsoup4==4.6.0 in /usr/local/lib/python3.7/dist-packages (from konlpy) (4.6.0)\n",
            "Requirement already satisfied: JPype1>=0.7.0 in /usr/local/lib/python3.7/dist-packages (from konlpy) (1.2.1)\n",
            "Requirement already satisfied: tweepy>=3.7.0 in /usr/local/lib/python3.7/dist-packages (from konlpy) (3.10.0)\n",
            "Requirement already satisfied: colorama in /usr/local/lib/python3.7/dist-packages (from konlpy) (0.4.4)\n",
            "Requirement already satisfied: typing-extensions; python_version < \"3.8\" in /usr/local/lib/python3.7/dist-packages (from JPype1>=0.7.0->konlpy) (3.7.4.3)\n",
            "Requirement already satisfied: requests[socks]>=2.11.1 in /usr/local/lib/python3.7/dist-packages (from tweepy>=3.7.0->konlpy) (2.23.0)\n",
            "Requirement already satisfied: six>=1.10.0 in /usr/local/lib/python3.7/dist-packages (from tweepy>=3.7.0->konlpy) (1.15.0)\n",
            "Requirement already satisfied: requests-oauthlib>=0.7.0 in /usr/local/lib/python3.7/dist-packages (from tweepy>=3.7.0->konlpy) (1.3.0)\n",
            "Requirement already satisfied: certifi>=2017.4.17 in /usr/local/lib/python3.7/dist-packages (from requests[socks]>=2.11.1->tweepy>=3.7.0->konlpy) (2020.12.5)\n",
            "Requirement already satisfied: urllib3!=1.25.0,!=1.25.1,<1.26,>=1.21.1 in /usr/local/lib/python3.7/dist-packages (from requests[socks]>=2.11.1->tweepy>=3.7.0->konlpy) (1.24.3)\n",
            "Requirement already satisfied: idna<3,>=2.5 in /usr/local/lib/python3.7/dist-packages (from requests[socks]>=2.11.1->tweepy>=3.7.0->konlpy) (2.10)\n",
            "Requirement already satisfied: chardet<4,>=3.0.2 in /usr/local/lib/python3.7/dist-packages (from requests[socks]>=2.11.1->tweepy>=3.7.0->konlpy) (3.0.4)\n",
            "Requirement already satisfied: PySocks!=1.5.7,>=1.5.6; extra == \"socks\" in /usr/local/lib/python3.7/dist-packages (from requests[socks]>=2.11.1->tweepy>=3.7.0->konlpy) (1.7.1)\n",
            "Requirement already satisfied: oauthlib>=3.0.0 in /usr/local/lib/python3.7/dist-packages (from requests-oauthlib>=0.7.0->tweepy>=3.7.0->konlpy) (3.1.0)\n",
            "+ mecab_dicdir=/usr/local/lib/mecab/dic/mecab-ko-dic\n",
            "+ set -e\n",
            "++ uname\n",
            "+ os=Linux\n",
            "+ [[ ! Linux == \\L\\i\\n\\u\\x ]]\n",
            "+ hash sudo\n",
            "+ sudo=sudo\n",
            "+ python=python3\n",
            "+ hash pyenv\n",
            "+ at_user_site=\n",
            "++ check_python_site_location_is_writable\n",
            "++ python3 -\n",
            "+ [[ 1 == \\0 ]]\n",
            "+ hash automake\n",
            "+ hash mecab\n",
            "+ echo 'mecab-ko is already installed'\n",
            "mecab-ko is already installed\n",
            "+ [[ -d /usr/local/lib/mecab/dic/mecab-ko-dic ]]\n",
            "+ echo 'mecab-ko-dic is already installed'\n",
            "mecab-ko-dic is already installed\n",
            "++ python3 -c 'import pkgutil; print(1 if pkgutil.find_loader(\"MeCab\") else 0)'\n",
            "+ [[ 1 == \\1 ]]\n",
            "+ echo 'mecab-python is already installed'\n",
            "mecab-python is already installed\n",
            "+ echo Done.\n",
            "Done.\n",
            "Reading package lists... Done\n",
            "Building dependency tree       \n",
            "Reading state information... Done\n",
            "E: Unable to locate package pyLDAvis.gensim\n",
            "E: Couldn't find any package by glob 'pyLDAvis.gensim'\n",
            "E: Couldn't find any package by regex 'pyLDAvis.gensim'\n"
          ],
          "name": "stdout"
        }
      ]
    },
    {
      "cell_type": "code",
      "metadata": {
        "id": "vKRDemy6cSNK"
      },
      "source": [
        "from konlpy.tag import Mecab\n",
        "from gensim.models import FastText\n",
        "import pandas as pd"
      ],
      "execution_count": null,
      "outputs": []
    },
    {
      "cell_type": "code",
      "metadata": {
        "colab": {
          "base_uri": "https://localhost:8080/"
        },
        "id": "ITVoatVpdsEX",
        "outputId": "0532848a-b927-404e-ee44-33216a38a4c7"
      },
      "source": [
        "!bash"
      ],
      "execution_count": null,
      "outputs": [
        {
          "output_type": "stream",
          "text": [
            "bash: cannot set terminal process group (58): Inappropriate ioctl for device\n",
            "bash: no job control in this shell\n",
            "ext.tsv > topic_fasttext.refined.tsv\n",
            "bash: /content/sample_data/topic_fasttext.tsv: No such file or directory\n",
            "ebooks/prac_data_science/topic_fasttext.tsv > topic_fasttext.refined.tsv\n",
            "\u001b[01;34m/content\u001b[00m# chmod 555 ./tokenize.sh\n",
            "v\n",
            "\u001b[01;34m/content\u001b[00m# \n",
            "\n",
            "\u001b[01;34m/content\u001b[00m# \n",
            "\u001b[01;34m/content\u001b[00m# exit\n"
          ],
          "name": "stdout"
        }
      ]
    },
    {
      "cell_type": "code",
      "metadata": {
        "id": "DXx0QOKaU1KQ"
      },
      "source": [
        "topic_fasttext = pd.read_table('/content/drive/MyDrive/Colab_Notebooks/prac_data_science/topic_fasttext.tsv', encoding = 'utf - 8', header = None)"
      ],
      "execution_count": null,
      "outputs": []
    },
    {
      "cell_type": "code",
      "metadata": {
        "colab": {
          "base_uri": "https://localhost:8080/",
          "height": 419
        },
        "id": "nCa40RihgwxP",
        "outputId": "30350e79-b566-4184-a91c-c1914db0fb4b"
      },
      "source": [
        "topic_fasttext"
      ],
      "execution_count": null,
      "outputs": [
        {
          "output_type": "execute_result",
          "data": {
            "text/html": [
              "<div>\n",
              "<style scoped>\n",
              "    .dataframe tbody tr th:only-of-type {\n",
              "        vertical-align: middle;\n",
              "    }\n",
              "\n",
              "    .dataframe tbody tr th {\n",
              "        vertical-align: top;\n",
              "    }\n",
              "\n",
              "    .dataframe thead th {\n",
              "        text-align: right;\n",
              "    }\n",
              "</style>\n",
              "<table border=\"1\" class=\"dataframe\">\n",
              "  <thead>\n",
              "    <tr style=\"text-align: right;\">\n",
              "      <th></th>\n",
              "      <th>0</th>\n",
              "    </tr>\n",
              "  </thead>\n",
              "  <tbody>\n",
              "    <tr>\n",
              "      <th>0</th>\n",
              "      <td>귀여워요ㅠㅠ</td>\n",
              "    </tr>\n",
              "    <tr>\n",
              "      <th>1</th>\n",
              "      <td>MBC 스트레이트 2021. 04. 04.</td>\n",
              "    </tr>\n",
              "    <tr>\n",
              "      <th>2</th>\n",
              "      <td>빠른배송 감사합니다</td>\n",
              "    </tr>\n",
              "    <tr>\n",
              "      <th>3</th>\n",
              "      <td>정말 좋았구....강추</td>\n",
              "    </tr>\n",
              "    <tr>\n",
              "      <th>4</th>\n",
              "      <td>쿠팡맨의 죽음으로 돈버는 왜국회사, 로켓배송-거북이정산이라서 탈퇴합니다.</td>\n",
              "    </tr>\n",
              "    <tr>\n",
              "      <th>...</th>\n",
              "      <td>...</td>\n",
              "    </tr>\n",
              "    <tr>\n",
              "      <th>46992</th>\n",
              "      <td>구매내역삭제부탁드립니다^^</td>\n",
              "    </tr>\n",
              "    <tr>\n",
              "      <th>46993</th>\n",
              "      <td>이거 도대체 누가 만든거지????\\n\\n광고랑 실제랑 완전틀리네 ㅋㅋㅋ</td>\n",
              "    </tr>\n",
              "    <tr>\n",
              "      <th>46994</th>\n",
              "      <td>구매목록삭제좀해주세요...</td>\n",
              "    </tr>\n",
              "    <tr>\n",
              "      <th>46995</th>\n",
              "      <td>디자인 겁나 넌잡한데 무슨 ㅡㅡ트렌드 쫓아한다구 뭔가한것같긴한데 ㅡㅡ겁나 난잡;; ...</td>\n",
              "    </tr>\n",
              "    <tr>\n",
              "      <th>46996</th>\n",
              "      <td>앱설치 후 첫구매시 만오천원 쿠폰 준다하여, 설치 후 구매하려했는데 쿠폰 안주더군요~</td>\n",
              "    </tr>\n",
              "  </tbody>\n",
              "</table>\n",
              "<p>46997 rows × 1 columns</p>\n",
              "</div>"
            ],
            "text/plain": [
              "                                                       0\n",
              "0                                                 귀여워요ㅠㅠ\n",
              "1                                MBC 스트레이트 2021. 04. 04.\n",
              "2                                             빠른배송 감사합니다\n",
              "3                                           정말 좋았구....강추\n",
              "4               쿠팡맨의 죽음으로 돈버는 왜국회사, 로켓배송-거북이정산이라서 탈퇴합니다.\n",
              "...                                                  ...\n",
              "46992                                     구매내역삭제부탁드립니다^^\n",
              "46993            이거 도대체 누가 만든거지????\\n\\n광고랑 실제랑 완전틀리네 ㅋㅋㅋ\n",
              "46994                                     구매목록삭제좀해주세요...\n",
              "46995  디자인 겁나 넌잡한데 무슨 ㅡㅡ트렌드 쫓아한다구 뭔가한것같긴한데 ㅡㅡ겁나 난잡;; ...\n",
              "46996    앱설치 후 첫구매시 만오천원 쿠폰 준다하여, 설치 후 구매하려했는데 쿠폰 안주더군요~\n",
              "\n",
              "[46997 rows x 1 columns]"
            ]
          },
          "metadata": {
            "tags": []
          },
          "execution_count": 5
        }
      ]
    },
    {
      "cell_type": "markdown",
      "metadata": {
        "id": "jRIAMJ7-YjAH"
      },
      "source": [
        "# 새 섹션"
      ]
    },
    {
      "cell_type": "code",
      "metadata": {
        "colab": {
          "base_uri": "https://localhost:8080/",
          "height": 35
        },
        "id": "KboQJ2GSiSaI",
        "outputId": "bdc5797b-a57d-447e-eeb6-1aff13c7822f"
      },
      "source": [
        "topic_fasttext.iloc[3, 0]"
      ],
      "execution_count": null,
      "outputs": [
        {
          "output_type": "execute_result",
          "data": {
            "application/vnd.google.colaboratory.intrinsic+json": {
              "type": "string"
            },
            "text/plain": [
              "'정말 좋았구....강추'"
            ]
          },
          "metadata": {
            "tags": []
          },
          "execution_count": 7
        }
      ]
    },
    {
      "cell_type": "code",
      "metadata": {
        "colab": {
          "base_uri": "https://localhost:8080/"
        },
        "id": "zHQrJ2O1XGf_",
        "outputId": "4782b9f6-501f-45ff-8f89-f48bac5d325c"
      },
      "source": [
        "mecab = Mecab()\n",
        "\n",
        "mecab.morphs('쿠팡은 배송이 정말 빨라요! 다들 쿠팡에서 쇼핑하세요~')"
      ],
      "execution_count": null,
      "outputs": [
        {
          "output_type": "execute_result",
          "data": {
            "text/plain": [
              "['쿠팡',\n",
              " '은',\n",
              " '배송',\n",
              " '이',\n",
              " '정말',\n",
              " '빨라요',\n",
              " '!',\n",
              " '다',\n",
              " '들',\n",
              " '쿠팡',\n",
              " '에서',\n",
              " '쇼핑',\n",
              " '하',\n",
              " '세요',\n",
              " '~']"
            ]
          },
          "metadata": {
            "tags": []
          },
          "execution_count": 6
        }
      ]
    },
    {
      "cell_type": "code",
      "metadata": {
        "colab": {
          "base_uri": "https://localhost:8080/"
        },
        "id": "gpTNR8-niHeb",
        "outputId": "2fdb70ef-718b-47a7-ed85-22db2042f733"
      },
      "source": [
        "len(topic_fasttext)"
      ],
      "execution_count": null,
      "outputs": [
        {
          "output_type": "execute_result",
          "data": {
            "text/plain": [
              "46997"
            ]
          },
          "metadata": {
            "tags": []
          },
          "execution_count": 8
        }
      ]
    },
    {
      "cell_type": "code",
      "metadata": {
        "colab": {
          "base_uri": "https://localhost:8080/"
        },
        "id": "38o9Lpn0Uxua",
        "outputId": "3c050e79-fa85-4a3a-b077-78df608772b7"
      },
      "source": [
        "# 형태소분석 - Mecab 명사 \n",
        "mecab = Mecab()\n",
        "\n",
        "line_list = []\n",
        "\n",
        "for i in range(len(topic_fasttext)):\n",
        "    line = mecab.nouns(topic_fasttext.iloc[i, 0])\n",
        "    line_list.append(line)\n",
        "\n",
        "print(\"- 불러온 문서 :\", len(line_list), \"문장\")"
      ],
      "execution_count": null,
      "outputs": [
        {
          "output_type": "stream",
          "text": [
            "- 불러온 문서 : 46997 문장\n"
          ],
          "name": "stdout"
        }
      ]
    },
    {
      "cell_type": "code",
      "metadata": {
        "id": "v5lJrkIbCU7D"
      },
      "source": [
        "line_list"
      ],
      "execution_count": null,
      "outputs": []
    },
    {
      "cell_type": "code",
      "metadata": {
        "colab": {
          "base_uri": "https://localhost:8080/"
        },
        "id": "rSWGpFdGVXAh",
        "outputId": "f58b5136-3c64-442c-eb99-5085f7c47ed9"
      },
      "source": [
        "stop_list = []\n",
        "\n",
        "f = open(\"stop_words_korean.txt\", encoding=\"utf-8\")\n",
        "for line in f:\n",
        "    stop_list.append(line[:-1])\n",
        "f.close()\n",
        "\n",
        "print(\"- 불러온 문서 :\", len(stop_list), \"문장\")"
      ],
      "execution_count": null,
      "outputs": [
        {
          "output_type": "stream",
          "text": [
            "- 불러온 문서 : 676 문장\n"
          ],
          "name": "stdout"
        }
      ]
    },
    {
      "cell_type": "code",
      "metadata": {
        "colab": {
          "base_uri": "https://localhost:8080/"
        },
        "id": "SocM3OJiVZTC",
        "outputId": "e5cfaf40-339f-4e04-9cb7-9b2bdaac7904"
      },
      "source": [
        "word_frequency = {}\n",
        "noun_list = []\n",
        "# stop_list는 위에서 정의\n",
        "line_number = 0\n",
        "for line in line_list[:]:\n",
        "    line_number += 1\n",
        "    print(str(line_number) + \"/\" + str(len(line_list)), end=\"\\r\")\n",
        "    noun = []\n",
        "    for word in line:\n",
        "        if word.split(\"/\")[0] not in stop_list and len(word.split(\"/\")[0]) > 1:  \n",
        "            noun.append(word.split(\"/\")[0])\n",
        "            if word not in word_frequency.keys():\n",
        "                word_frequency[word] = 1\n",
        "            else:\n",
        "                word_frequency[word] += 1\n",
        "    noun_list.extend(noun)"
      ],
      "execution_count": null,
      "outputs": [
        {
          "output_type": "stream",
          "text": [
            ""
          ],
          "name": "stdout"
        }
      ]
    },
    {
      "cell_type": "code",
      "metadata": {
        "colab": {
          "base_uri": "https://localhost:8080/",
          "height": 239
        },
        "id": "OMoF3N91Vaeg",
        "outputId": "3673598c-df9e-4f61-a45c-d421ea5a6375"
      },
      "source": [
        "#단어별 출현빈도를 출력\n",
        "word_count = []\n",
        "for n, freq in word_frequency.items():\n",
        "    word_count.append([n, freq])\n",
        "word_count.sort(key=lambda elem: elem[1], reverse=True)\n",
        "for n, freq in word_count[:10]:\n",
        "    print(n + \"\\t\" + str(freq))"
      ],
      "execution_count": null,
      "outputs": [
        {
          "output_type": "error",
          "ename": "NameError",
          "evalue": "ignored",
          "traceback": [
            "\u001b[0;31m---------------------------------------------------------------------------\u001b[0m",
            "\u001b[0;31mNameError\u001b[0m                                 Traceback (most recent call last)",
            "\u001b[0;32m<ipython-input-11-99a679cad5df>\u001b[0m in \u001b[0;36m<module>\u001b[0;34m()\u001b[0m\n\u001b[1;32m      1\u001b[0m \u001b[0;31m#단어별 출현빈도를 출력\u001b[0m\u001b[0;34m\u001b[0m\u001b[0;34m\u001b[0m\u001b[0;34m\u001b[0m\u001b[0m\n\u001b[1;32m      2\u001b[0m \u001b[0mword_count\u001b[0m \u001b[0;34m=\u001b[0m \u001b[0;34m[\u001b[0m\u001b[0;34m]\u001b[0m\u001b[0;34m\u001b[0m\u001b[0;34m\u001b[0m\u001b[0m\n\u001b[0;32m----> 3\u001b[0;31m \u001b[0;32mfor\u001b[0m \u001b[0mn\u001b[0m\u001b[0;34m,\u001b[0m \u001b[0mfreq\u001b[0m \u001b[0;32min\u001b[0m \u001b[0mword_frequency\u001b[0m\u001b[0;34m.\u001b[0m\u001b[0mitems\u001b[0m\u001b[0;34m(\u001b[0m\u001b[0;34m)\u001b[0m\u001b[0;34m:\u001b[0m\u001b[0;34m\u001b[0m\u001b[0;34m\u001b[0m\u001b[0m\n\u001b[0m\u001b[1;32m      4\u001b[0m     \u001b[0mword_count\u001b[0m\u001b[0;34m.\u001b[0m\u001b[0mappend\u001b[0m\u001b[0;34m(\u001b[0m\u001b[0;34m[\u001b[0m\u001b[0mn\u001b[0m\u001b[0;34m,\u001b[0m \u001b[0mfreq\u001b[0m\u001b[0;34m]\u001b[0m\u001b[0;34m)\u001b[0m\u001b[0;34m\u001b[0m\u001b[0;34m\u001b[0m\u001b[0m\n\u001b[1;32m      5\u001b[0m \u001b[0mword_count\u001b[0m\u001b[0;34m.\u001b[0m\u001b[0msort\u001b[0m\u001b[0;34m(\u001b[0m\u001b[0mkey\u001b[0m\u001b[0;34m=\u001b[0m\u001b[0;32mlambda\u001b[0m \u001b[0melem\u001b[0m\u001b[0;34m:\u001b[0m \u001b[0melem\u001b[0m\u001b[0;34m[\u001b[0m\u001b[0;36m1\u001b[0m\u001b[0;34m]\u001b[0m\u001b[0;34m,\u001b[0m \u001b[0mreverse\u001b[0m\u001b[0;34m=\u001b[0m\u001b[0;32mTrue\u001b[0m\u001b[0;34m)\u001b[0m\u001b[0;34m\u001b[0m\u001b[0;34m\u001b[0m\u001b[0m\n",
            "\u001b[0;31mNameError\u001b[0m: name 'word_frequency' is not defined"
          ]
        }
      ]
    },
    {
      "cell_type": "markdown",
      "metadata": {
        "id": "AzgD-zqzZBp_"
      },
      "source": [
        "###여기서 Fasttext의 하이퍼파라미터값은 다음과 같습니다.\n",
        "\n",
        "- size = 워드 벡터의 특징 값. 즉, 임베딩 된 벡터의 차원.\n",
        "- window = 컨텍스트 윈도우 크기\n",
        "- min_count = 단어 최소 빈도 수 제한 (빈도가 적은 단어들은 학습하지 않는다.)\n",
        "- workers = 학습을 위한 프로세스 수\n",
        "- sg = 0은 CBOW, 1은 Skip-gram."
      ]
    },
    {
      "cell_type": "code",
      "metadata": {
        "id": "b_CUUMfNV9t4"
      },
      "source": [
        "model_f = FastText(sentences=line_list, size = 100, window = 5, min_count = 5, workers = 4, sg = 1)"
      ],
      "execution_count": null,
      "outputs": []
    },
    {
      "cell_type": "code",
      "metadata": {
        "colab": {
          "base_uri": "https://localhost:8080/"
        },
        "id": "7GB65MkgjEMw",
        "outputId": "ec5fb748-120d-4fe3-be56-0c411e3fb69b"
      },
      "source": [
        "print(model_f.wv.most_similar('낚시'))"
      ],
      "execution_count": null,
      "outputs": [
        {
          "output_type": "stream",
          "text": [
            "[('낚시질', 0.9482601284980774), ('정가', 0.9357490539550781), ('공짜', 0.928625762462616), ('영화', 0.9284884929656982), ('더블', 0.9269484281539917), ('가량', 0.921851396560669), ('보너스', 0.9158886671066284), ('수익', 0.9128562211990356), ('장난질', 0.9115177392959595), ('지출', 0.9111196994781494)]\n"
          ],
          "name": "stdout"
        }
      ]
    },
    {
      "cell_type": "markdown",
      "metadata": {
        "id": "7nrsr7xqhhb4"
      },
      "source": [
        "topic tagging"
      ]
    },
    {
      "cell_type": "code",
      "metadata": {
        "colab": {
          "base_uri": "https://localhost:8080/"
        },
        "id": "lOWo-EAehg_J",
        "outputId": "949af81a-0989-4efb-d595-7db97a5a8e27"
      },
      "source": [
        "test_topic = pd.read_csv('/content/drive/MyDrive/Colab_Notebooks/prac_data_science/Scrapping_Data/google_coupang.csv')\n",
        "test_topic['review']"
      ],
      "execution_count": null,
      "outputs": [
        {
          "output_type": "execute_result",
          "data": {
            "text/plain": [
              "0                                          귀여워요ㅠㅠ\n",
              "1                         MBC 스트레이트 2021. 04. 04.\n",
              "2                                      빠른배송 감사합니다\n",
              "3                                    정말 좋았구....강추\n",
              "4        쿠팡맨의 죽음으로 돈버는 왜국회사, 로켓배송-거북이정산이라서 탈퇴합니다.\n",
              "                           ...                   \n",
              "20303                                     좋아요 편하고\n",
              "20304                               저렴한 가격에 매우 만족\n",
              "20305                                        빠른배송\n",
              "20306                               주문부터 배송까지 최고~\n",
              "20307                                       좋네요 ㅎ\n",
              "Name: review, Length: 20308, dtype: object"
            ]
          },
          "metadata": {
            "tags": []
          },
          "execution_count": 9
        }
      ]
    },
    {
      "cell_type": "code",
      "metadata": {
        "colab": {
          "base_uri": "https://localhost:8080/"
        },
        "id": "mmsOEQdahtnQ",
        "outputId": "a6552e97-b04b-452a-843d-9d81ebb1b480"
      },
      "source": [
        "# 형태소분석 - Mecab 명사 \n",
        "mecab = Mecab()\n",
        "\n",
        "line_list = []\n",
        "\n",
        "for i in range(len(test_topic)):\n",
        "    line = mecab.nouns(test_topic['review'][i])\n",
        "    line_list.append(line)\n",
        "\n",
        "print(\"- 불러온 문서 :\", len(line_list), \"문장\")"
      ],
      "execution_count": null,
      "outputs": [
        {
          "output_type": "stream",
          "text": [
            "- 불러온 문서 : 20308 문장\n"
          ],
          "name": "stdout"
        }
      ]
    },
    {
      "cell_type": "code",
      "metadata": {
        "id": "tWgM0pfFiL9A"
      },
      "source": [
        "topic = {'Goods' : ['상품', '신상품', '종류', '재고', '일시', '품절', '품목', '제품', '상품명', '세일', '코너', '제품력','물품','품목', '반품', '교환', '환불', '접수', '회수', '불량'],\n",
        "         'App' : ['앱', '사파리', '브라우저', '싸이트', '용시', '홈페이지', '어플리케이션', '설치', '다운로드', '구글', '스토어', '상세', '정보', '설명', '로그인', '로그아웃', '비번', '비밀번호', '아이디', '디자인', '심플', '리뷰', '평', '평가', '모바일', '오류', '에러', '네트워크', '업데이트', '화면'],\n",
        "         'Delivery' : ['배송', '배송굿', '후레쉬', '프레시', '프레쉬', '배달', '식품', '신선', '택배', '아저씨', '배달원', '경비실', '초인종', '한진', '수거', '불친절', '로켓', '정기', '와우', '총알'],\n",
        "         'Payment' : ['결제', '결재', '페이', '수단', '신한', '카드', '신용', '신용카드', '체크카드', '머니'],\n",
        "         'CS' : ['상담', '상담원', '통화', '대답', '채팅', '응대', '콜', '친절', '노고', '감동', '센스', '불친절', '가입', '회원', '실명', '편의'],\n",
        "         'Price' : ['가격', '대비', '최저', '경쟁력', '합리', '가격대', '최저가', '렴', '할인', '할인율'],\n",
        "         'Marketing' : ['포인트', '캐시', '캐쉬', '이벤트', '행사', '참여', '응모', '출석', '첵', '멤버십', '클럽', '쿠폰'],\n",
        "         'AD' : ['광고', '페북', '광고비', '팝업', '허위', '유튜브', '낚시', '낚시질']\n",
        "         }"
      ],
      "execution_count": null,
      "outputs": []
    },
    {
      "cell_type": "code",
      "metadata": {
        "id": "62AfGEt8j0y1"
      },
      "source": [
        "df = pd.DataFrame(index=range(0,len(line_list)), columns=['Goods', 'App', 'Delivery', 'Payment', 'CS', 'Price', 'Marketing', 'AD'])\n",
        "\n",
        "for idx, text in enumerate(line_list):\n",
        "    df.iloc[idx, :] = 0\n",
        "    for i in text:\n",
        "        k = 0\n",
        "        for key, value in topic.items():\n",
        "            if i in value:\n",
        "                df.iloc[idx, k] = 1\n",
        "                k += 1\n",
        "            else:\n",
        "                k += 1\n",
        "            "
      ],
      "execution_count": null,
      "outputs": []
    },
    {
      "cell_type": "code",
      "metadata": {
        "colab": {
          "base_uri": "https://localhost:8080/",
          "height": 419
        },
        "id": "PQ4heSBNvfny",
        "outputId": "d4ed4e8f-7a05-4280-ad34-dd3b4e7be67a"
      },
      "source": [
        "df"
      ],
      "execution_count": null,
      "outputs": [
        {
          "output_type": "execute_result",
          "data": {
            "text/html": [
              "<div>\n",
              "<style scoped>\n",
              "    .dataframe tbody tr th:only-of-type {\n",
              "        vertical-align: middle;\n",
              "    }\n",
              "\n",
              "    .dataframe tbody tr th {\n",
              "        vertical-align: top;\n",
              "    }\n",
              "\n",
              "    .dataframe thead th {\n",
              "        text-align: right;\n",
              "    }\n",
              "</style>\n",
              "<table border=\"1\" class=\"dataframe\">\n",
              "  <thead>\n",
              "    <tr style=\"text-align: right;\">\n",
              "      <th></th>\n",
              "      <th>Goods</th>\n",
              "      <th>App</th>\n",
              "      <th>Delivery</th>\n",
              "      <th>Payment</th>\n",
              "      <th>CS</th>\n",
              "      <th>Price</th>\n",
              "      <th>Marketing</th>\n",
              "      <th>AD</th>\n",
              "    </tr>\n",
              "  </thead>\n",
              "  <tbody>\n",
              "    <tr>\n",
              "      <th>0</th>\n",
              "      <td>0</td>\n",
              "      <td>0</td>\n",
              "      <td>0</td>\n",
              "      <td>0</td>\n",
              "      <td>0</td>\n",
              "      <td>0</td>\n",
              "      <td>0</td>\n",
              "      <td>0</td>\n",
              "    </tr>\n",
              "    <tr>\n",
              "      <th>1</th>\n",
              "      <td>0</td>\n",
              "      <td>0</td>\n",
              "      <td>0</td>\n",
              "      <td>0</td>\n",
              "      <td>0</td>\n",
              "      <td>0</td>\n",
              "      <td>0</td>\n",
              "      <td>0</td>\n",
              "    </tr>\n",
              "    <tr>\n",
              "      <th>2</th>\n",
              "      <td>0</td>\n",
              "      <td>0</td>\n",
              "      <td>1</td>\n",
              "      <td>0</td>\n",
              "      <td>0</td>\n",
              "      <td>0</td>\n",
              "      <td>0</td>\n",
              "      <td>0</td>\n",
              "    </tr>\n",
              "    <tr>\n",
              "      <th>3</th>\n",
              "      <td>0</td>\n",
              "      <td>0</td>\n",
              "      <td>0</td>\n",
              "      <td>0</td>\n",
              "      <td>0</td>\n",
              "      <td>0</td>\n",
              "      <td>0</td>\n",
              "      <td>0</td>\n",
              "    </tr>\n",
              "    <tr>\n",
              "      <th>4</th>\n",
              "      <td>0</td>\n",
              "      <td>0</td>\n",
              "      <td>1</td>\n",
              "      <td>0</td>\n",
              "      <td>0</td>\n",
              "      <td>0</td>\n",
              "      <td>0</td>\n",
              "      <td>0</td>\n",
              "    </tr>\n",
              "    <tr>\n",
              "      <th>...</th>\n",
              "      <td>...</td>\n",
              "      <td>...</td>\n",
              "      <td>...</td>\n",
              "      <td>...</td>\n",
              "      <td>...</td>\n",
              "      <td>...</td>\n",
              "      <td>...</td>\n",
              "      <td>...</td>\n",
              "    </tr>\n",
              "    <tr>\n",
              "      <th>20303</th>\n",
              "      <td>0</td>\n",
              "      <td>0</td>\n",
              "      <td>0</td>\n",
              "      <td>0</td>\n",
              "      <td>0</td>\n",
              "      <td>0</td>\n",
              "      <td>0</td>\n",
              "      <td>0</td>\n",
              "    </tr>\n",
              "    <tr>\n",
              "      <th>20304</th>\n",
              "      <td>0</td>\n",
              "      <td>0</td>\n",
              "      <td>0</td>\n",
              "      <td>0</td>\n",
              "      <td>0</td>\n",
              "      <td>1</td>\n",
              "      <td>0</td>\n",
              "      <td>0</td>\n",
              "    </tr>\n",
              "    <tr>\n",
              "      <th>20305</th>\n",
              "      <td>0</td>\n",
              "      <td>0</td>\n",
              "      <td>1</td>\n",
              "      <td>0</td>\n",
              "      <td>0</td>\n",
              "      <td>0</td>\n",
              "      <td>0</td>\n",
              "      <td>0</td>\n",
              "    </tr>\n",
              "    <tr>\n",
              "      <th>20306</th>\n",
              "      <td>0</td>\n",
              "      <td>0</td>\n",
              "      <td>1</td>\n",
              "      <td>0</td>\n",
              "      <td>0</td>\n",
              "      <td>0</td>\n",
              "      <td>0</td>\n",
              "      <td>0</td>\n",
              "    </tr>\n",
              "    <tr>\n",
              "      <th>20307</th>\n",
              "      <td>0</td>\n",
              "      <td>0</td>\n",
              "      <td>0</td>\n",
              "      <td>0</td>\n",
              "      <td>0</td>\n",
              "      <td>0</td>\n",
              "      <td>0</td>\n",
              "      <td>0</td>\n",
              "    </tr>\n",
              "  </tbody>\n",
              "</table>\n",
              "<p>20308 rows × 8 columns</p>\n",
              "</div>"
            ],
            "text/plain": [
              "      Goods App Delivery Payment CS Price Marketing AD\n",
              "0         0   0        0       0  0     0         0  0\n",
              "1         0   0        0       0  0     0         0  0\n",
              "2         0   0        1       0  0     0         0  0\n",
              "3         0   0        0       0  0     0         0  0\n",
              "4         0   0        1       0  0     0         0  0\n",
              "...     ...  ..      ...     ... ..   ...       ... ..\n",
              "20303     0   0        0       0  0     0         0  0\n",
              "20304     0   0        0       0  0     1         0  0\n",
              "20305     0   0        1       0  0     0         0  0\n",
              "20306     0   0        1       0  0     0         0  0\n",
              "20307     0   0        0       0  0     0         0  0\n",
              "\n",
              "[20308 rows x 8 columns]"
            ]
          },
          "metadata": {
            "tags": []
          },
          "execution_count": 13
        }
      ]
    },
    {
      "cell_type": "code",
      "metadata": {
        "colab": {
          "base_uri": "https://localhost:8080/"
        },
        "id": "jHO1599vnVdM",
        "outputId": "0f567bc0-bd3e-4093-acc4-9fdce703b892"
      },
      "source": [
        "df.sum() "
      ],
      "execution_count": null,
      "outputs": [
        {
          "output_type": "execute_result",
          "data": {
            "text/plain": [
              "Goods        1681.0\n",
              "App          2068.0\n",
              "Delivery     4334.0\n",
              "Payment       636.0\n",
              "CS            618.0\n",
              "Price         694.0\n",
              "Marketing     163.0\n",
              "AD            222.0\n",
              "dtype: float64"
            ]
          },
          "metadata": {
            "tags": []
          },
          "execution_count": 14
        }
      ]
    },
    {
      "cell_type": "code",
      "metadata": {
        "id": "YxcJahUbn6Mj",
        "colab": {
          "base_uri": "https://localhost:8080/",
          "height": 419
        },
        "outputId": "1fe00498-884e-4666-fe70-c7d6d24c1664"
      },
      "source": [
        "pd.concat([test_topic['review'], df], axis = 1)"
      ],
      "execution_count": null,
      "outputs": [
        {
          "output_type": "execute_result",
          "data": {
            "text/html": [
              "<div>\n",
              "<style scoped>\n",
              "    .dataframe tbody tr th:only-of-type {\n",
              "        vertical-align: middle;\n",
              "    }\n",
              "\n",
              "    .dataframe tbody tr th {\n",
              "        vertical-align: top;\n",
              "    }\n",
              "\n",
              "    .dataframe thead th {\n",
              "        text-align: right;\n",
              "    }\n",
              "</style>\n",
              "<table border=\"1\" class=\"dataframe\">\n",
              "  <thead>\n",
              "    <tr style=\"text-align: right;\">\n",
              "      <th></th>\n",
              "      <th>review</th>\n",
              "      <th>Goods</th>\n",
              "      <th>App</th>\n",
              "      <th>Delivery</th>\n",
              "      <th>Payment</th>\n",
              "      <th>CS</th>\n",
              "      <th>Price</th>\n",
              "      <th>Marketing</th>\n",
              "      <th>AD</th>\n",
              "    </tr>\n",
              "  </thead>\n",
              "  <tbody>\n",
              "    <tr>\n",
              "      <th>0</th>\n",
              "      <td>귀여워요ㅠㅠ</td>\n",
              "      <td>0</td>\n",
              "      <td>0</td>\n",
              "      <td>0</td>\n",
              "      <td>0</td>\n",
              "      <td>0</td>\n",
              "      <td>0</td>\n",
              "      <td>0</td>\n",
              "      <td>0</td>\n",
              "    </tr>\n",
              "    <tr>\n",
              "      <th>1</th>\n",
              "      <td>MBC 스트레이트 2021. 04. 04.</td>\n",
              "      <td>0</td>\n",
              "      <td>0</td>\n",
              "      <td>0</td>\n",
              "      <td>0</td>\n",
              "      <td>0</td>\n",
              "      <td>0</td>\n",
              "      <td>0</td>\n",
              "      <td>0</td>\n",
              "    </tr>\n",
              "    <tr>\n",
              "      <th>2</th>\n",
              "      <td>빠른배송 감사합니다</td>\n",
              "      <td>0</td>\n",
              "      <td>0</td>\n",
              "      <td>1</td>\n",
              "      <td>0</td>\n",
              "      <td>0</td>\n",
              "      <td>0</td>\n",
              "      <td>0</td>\n",
              "      <td>0</td>\n",
              "    </tr>\n",
              "    <tr>\n",
              "      <th>3</th>\n",
              "      <td>정말 좋았구....강추</td>\n",
              "      <td>0</td>\n",
              "      <td>0</td>\n",
              "      <td>0</td>\n",
              "      <td>0</td>\n",
              "      <td>0</td>\n",
              "      <td>0</td>\n",
              "      <td>0</td>\n",
              "      <td>0</td>\n",
              "    </tr>\n",
              "    <tr>\n",
              "      <th>4</th>\n",
              "      <td>쿠팡맨의 죽음으로 돈버는 왜국회사, 로켓배송-거북이정산이라서 탈퇴합니다.</td>\n",
              "      <td>0</td>\n",
              "      <td>0</td>\n",
              "      <td>1</td>\n",
              "      <td>0</td>\n",
              "      <td>0</td>\n",
              "      <td>0</td>\n",
              "      <td>0</td>\n",
              "      <td>0</td>\n",
              "    </tr>\n",
              "    <tr>\n",
              "      <th>...</th>\n",
              "      <td>...</td>\n",
              "      <td>...</td>\n",
              "      <td>...</td>\n",
              "      <td>...</td>\n",
              "      <td>...</td>\n",
              "      <td>...</td>\n",
              "      <td>...</td>\n",
              "      <td>...</td>\n",
              "      <td>...</td>\n",
              "    </tr>\n",
              "    <tr>\n",
              "      <th>20303</th>\n",
              "      <td>좋아요 편하고</td>\n",
              "      <td>0</td>\n",
              "      <td>0</td>\n",
              "      <td>0</td>\n",
              "      <td>0</td>\n",
              "      <td>0</td>\n",
              "      <td>0</td>\n",
              "      <td>0</td>\n",
              "      <td>0</td>\n",
              "    </tr>\n",
              "    <tr>\n",
              "      <th>20304</th>\n",
              "      <td>저렴한 가격에 매우 만족</td>\n",
              "      <td>0</td>\n",
              "      <td>0</td>\n",
              "      <td>0</td>\n",
              "      <td>0</td>\n",
              "      <td>0</td>\n",
              "      <td>1</td>\n",
              "      <td>0</td>\n",
              "      <td>0</td>\n",
              "    </tr>\n",
              "    <tr>\n",
              "      <th>20305</th>\n",
              "      <td>빠른배송</td>\n",
              "      <td>0</td>\n",
              "      <td>0</td>\n",
              "      <td>1</td>\n",
              "      <td>0</td>\n",
              "      <td>0</td>\n",
              "      <td>0</td>\n",
              "      <td>0</td>\n",
              "      <td>0</td>\n",
              "    </tr>\n",
              "    <tr>\n",
              "      <th>20306</th>\n",
              "      <td>주문부터 배송까지 최고~</td>\n",
              "      <td>0</td>\n",
              "      <td>0</td>\n",
              "      <td>1</td>\n",
              "      <td>0</td>\n",
              "      <td>0</td>\n",
              "      <td>0</td>\n",
              "      <td>0</td>\n",
              "      <td>0</td>\n",
              "    </tr>\n",
              "    <tr>\n",
              "      <th>20307</th>\n",
              "      <td>좋네요 ㅎ</td>\n",
              "      <td>0</td>\n",
              "      <td>0</td>\n",
              "      <td>0</td>\n",
              "      <td>0</td>\n",
              "      <td>0</td>\n",
              "      <td>0</td>\n",
              "      <td>0</td>\n",
              "      <td>0</td>\n",
              "    </tr>\n",
              "  </tbody>\n",
              "</table>\n",
              "<p>20308 rows × 9 columns</p>\n",
              "</div>"
            ],
            "text/plain": [
              "                                         review Goods App  ... Price Marketing AD\n",
              "0                                        귀여워요ㅠㅠ     0   0  ...     0         0  0\n",
              "1                       MBC 스트레이트 2021. 04. 04.     0   0  ...     0         0  0\n",
              "2                                    빠른배송 감사합니다     0   0  ...     0         0  0\n",
              "3                                  정말 좋았구....강추     0   0  ...     0         0  0\n",
              "4      쿠팡맨의 죽음으로 돈버는 왜국회사, 로켓배송-거북이정산이라서 탈퇴합니다.     0   0  ...     0         0  0\n",
              "...                                         ...   ...  ..  ...   ...       ... ..\n",
              "20303                                   좋아요 편하고     0   0  ...     0         0  0\n",
              "20304                             저렴한 가격에 매우 만족     0   0  ...     1         0  0\n",
              "20305                                      빠른배송     0   0  ...     0         0  0\n",
              "20306                             주문부터 배송까지 최고~     0   0  ...     0         0  0\n",
              "20307                                     좋네요 ㅎ     0   0  ...     0         0  0\n",
              "\n",
              "[20308 rows x 9 columns]"
            ]
          },
          "metadata": {
            "tags": []
          },
          "execution_count": 15
        }
      ]
    },
    {
      "cell_type": "code",
      "metadata": {
        "id": "kESHhO-w0RGH"
      },
      "source": [
        "(pd.concat([test_topic['review'], df], axis = 1)).to_csv('test_topic_.csv', encoding='utf-8-sig')"
      ],
      "execution_count": null,
      "outputs": []
    },
    {
      "cell_type": "code",
      "metadata": {
        "id": "2JDhJOCX0ZX3"
      },
      "source": [
        "pd."
      ],
      "execution_count": null,
      "outputs": []
    }
  ]
}