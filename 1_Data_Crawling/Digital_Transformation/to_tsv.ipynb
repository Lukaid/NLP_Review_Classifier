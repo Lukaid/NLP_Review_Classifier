{
 "metadata": {
  "language_info": {
   "codemirror_mode": {
    "name": "ipython",
    "version": 3
   },
   "file_extension": ".py",
   "mimetype": "text/x-python",
   "name": "python",
   "nbconvert_exporter": "python",
   "pygments_lexer": "ipython3",
   "version": "3.9.4"
  },
  "orig_nbformat": 2,
  "kernelspec": {
   "name": "python394jvsc74a57bd063fd5069d213b44bf678585dea6b12cceca9941eaf7f819626cde1f2670de90d",
   "display_name": "Python 3.9.4 64-bit"
  },
  "metadata": {
   "interpreter": {
    "hash": "63fd5069d213b44bf678585dea6b12cceca9941eaf7f819626cde1f2670de90d"
   }
  }
 },
 "nbformat": 4,
 "nbformat_minor": 2,
 "cells": [
  {
   "cell_type": "code",
   "execution_count": 1,
   "metadata": {},
   "outputs": [],
   "source": [
    "import pandas as pd"
   ]
  },
  {
   "cell_type": "code",
   "execution_count": 8,
   "metadata": {},
   "outputs": [],
   "source": [
    "pd.read_csv('Total_Review_For_Fasttext.csv', encoding='utf-8').to_csv('Total_Review_For_Fasttext.tsv', index=False, sep=\"\\t\")"
   ]
  },
  {
   "cell_type": "code",
   "execution_count": 1,
   "metadata": {},
   "outputs": [],
   "source": [
    "from konlpy.tag import Mecab"
   ]
  },
  {
   "cell_type": "code",
   "execution_count": 13,
   "metadata": {},
   "outputs": [
    {
     "output_type": "error",
     "ename": "TypeError",
     "evalue": "nouns() missing 1 required positional argument: 'phrase'",
     "traceback": [
      "\u001b[1;31m---------------------------------------------------------------------------\u001b[0m",
      "\u001b[1;31mTypeError\u001b[0m                                 Traceback (most recent call last)",
      "\u001b[1;32m<ipython-input-13-91ed7edb0960>\u001b[0m in \u001b[0;36m<module>\u001b[1;34m\u001b[0m\n\u001b[0;32m      1\u001b[0m \u001b[0ma\u001b[0m \u001b[1;33m=\u001b[0m \u001b[1;34m'왜 안되는건데 ㅠㅠ'\u001b[0m\u001b[1;33m\u001b[0m\u001b[1;33m\u001b[0m\u001b[0m\n\u001b[0;32m      2\u001b[0m \u001b[1;33m\u001b[0m\u001b[0m\n\u001b[1;32m----> 3\u001b[1;33m \u001b[0mMecab\u001b[0m\u001b[1;33m.\u001b[0m\u001b[0mnouns\u001b[0m\u001b[1;33m(\u001b[0m\u001b[0ma\u001b[0m\u001b[1;33m)\u001b[0m\u001b[1;33m\u001b[0m\u001b[1;33m\u001b[0m\u001b[0m\n\u001b[0m",
      "\u001b[1;31mTypeError\u001b[0m: nouns() missing 1 required positional argument: 'phrase'"
     ]
    }
   ],
   "source": [
    "a = '왜 안되는건데 ㅠㅠ'\n",
    "\n",
    "Mecab.p(a)"
   ]
  },
  {
   "cell_type": "code",
   "execution_count": 32,
   "metadata": {},
   "outputs": [],
   "source": [
    "a = ['광고', '페북', '광고비', '팝업', '허위', '유튜브', '낚시', '낚시질','리뷰', '차단',\n",
    "  '광고',\n",
    "  '시작',\n",
    "  '상담',\n",
    "  '짜증',\n",
    "  '불편',\n",
    "  '팝업',\n",
    "  '품절',\n",
    "  '상품',\n",
    "  '물건',\n",
    "  '쿠팡',\n",
    "  '뉴스',\n",
    "  '필요']"
   ]
  },
  {
   "cell_type": "code",
   "execution_count": 33,
   "metadata": {},
   "outputs": [
    {
     "output_type": "execute_result",
     "data": {
      "text/plain": [
       "['팝업',\n",
       " '상담',\n",
       " '짜증',\n",
       " '뉴스',\n",
       " '시작',\n",
       " '리뷰',\n",
       " '낚시',\n",
       " '유튜브',\n",
       " '불편',\n",
       " '광고비',\n",
       " '광고',\n",
       " '물건',\n",
       " '허위',\n",
       " '낚시질',\n",
       " '상품',\n",
       " '차단',\n",
       " '품절',\n",
       " '쿠팡',\n",
       " '필요',\n",
       " '페북']"
      ]
     },
     "metadata": {},
     "execution_count": 33
    }
   ],
   "source": [
    "list(set(a))"
   ]
  }
 ]
}