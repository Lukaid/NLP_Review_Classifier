{
 "metadata": {
  "language_info": {
   "codemirror_mode": {
    "name": "ipython",
    "version": 3
   },
   "file_extension": ".py",
   "mimetype": "text/x-python",
   "name": "python",
   "nbconvert_exporter": "python",
   "pygments_lexer": "ipython3",
   "version": "3.9.4"
  },
  "orig_nbformat": 2,
  "kernelspec": {
   "name": "python394jvsc74a57bd063fd5069d213b44bf678585dea6b12cceca9941eaf7f819626cde1f2670de90d",
   "display_name": "Python 3.9.4 64-bit"
  },
  "metadata": {
   "interpreter": {
    "hash": "63fd5069d213b44bf678585dea6b12cceca9941eaf7f819626cde1f2670de90d"
   }
  }
 },
 "nbformat": 4,
 "nbformat_minor": 2,
 "cells": [
  {
   "cell_type": "code",
   "execution_count": 1,
   "metadata": {},
   "outputs": [],
   "source": [
    "import pandas as pd"
   ]
  },
  {
   "cell_type": "code",
   "execution_count": 51,
   "metadata": {},
   "outputs": [
    {
     "output_type": "error",
     "ename": "SyntaxError",
     "evalue": "(unicode error) 'unicodeescape' codec can't decode bytes in position 2-3: truncated \\UXXXXXXXX escape (<ipython-input-51-89ac12babbab>, line 1)",
     "traceback": [
      "\u001b[1;36m  File \u001b[1;32m\"<ipython-input-51-89ac12babbab>\"\u001b[1;36m, line \u001b[1;32m1\u001b[0m\n\u001b[1;33m    pd.read_csv('C:\\Users\\lukaid\\Documents\\NLP_Review_Classifier\\7_Output_Analysis\\Coupang_Test_Data_Set_Manual_.csv', encoding='utf-8').to_csv('Coupang_Test_Data_Set_Manual.tsv', index=False, sep=\"\\t\")\u001b[0m\n\u001b[1;37m                                                                                                                     ^\u001b[0m\n\u001b[1;31mSyntaxError\u001b[0m\u001b[1;31m:\u001b[0m (unicode error) 'unicodeescape' codec can't decode bytes in position 2-3: truncated \\UXXXXXXXX escape\n"
     ]
    }
   ],
   "source": [
    "pd.read_csv('C:\\Users\\lukaid\\Documents\\NLP_Review_Classifier\\7_Output_Analysis\\Coupang_Test_Data_Set_Manual_.csv', encoding='utf-8').to_csv('Coupang_Test_Data_Set_Manual.tsv', index=False, sep=\"\\t\")"
   ]
  },
  {
   "cell_type": "code",
   "execution_count": 1,
   "metadata": {},
   "outputs": [],
   "source": [
    "from konlpy.tag import Mecab"
   ]
  },
  {
   "cell_type": "code",
   "execution_count": 13,
   "metadata": {},
   "outputs": [
    {
     "output_type": "error",
     "ename": "TypeError",
     "evalue": "nouns() missing 1 required positional argument: 'phrase'",
     "traceback": [
      "\u001b[1;31m---------------------------------------------------------------------------\u001b[0m",
      "\u001b[1;31mTypeError\u001b[0m                                 Traceback (most recent call last)",
      "\u001b[1;32m<ipython-input-13-91ed7edb0960>\u001b[0m in \u001b[0;36m<module>\u001b[1;34m\u001b[0m\n\u001b[0;32m      1\u001b[0m \u001b[0ma\u001b[0m \u001b[1;33m=\u001b[0m \u001b[1;34m'왜 안되는건데 ㅠㅠ'\u001b[0m\u001b[1;33m\u001b[0m\u001b[1;33m\u001b[0m\u001b[0m\n\u001b[0;32m      2\u001b[0m \u001b[1;33m\u001b[0m\u001b[0m\n\u001b[1;32m----> 3\u001b[1;33m \u001b[0mMecab\u001b[0m\u001b[1;33m.\u001b[0m\u001b[0mnouns\u001b[0m\u001b[1;33m(\u001b[0m\u001b[0ma\u001b[0m\u001b[1;33m)\u001b[0m\u001b[1;33m\u001b[0m\u001b[1;33m\u001b[0m\u001b[0m\n\u001b[0m",
      "\u001b[1;31mTypeError\u001b[0m: nouns() missing 1 required positional argument: 'phrase'"
     ]
    }
   ],
   "source": [
    "a = '왜 안되는건데 ㅠㅠ'\n",
    "\n",
    "Mecab.p(a)"
   ]
  },
  {
   "cell_type": "code",
   "execution_count": 49,
   "metadata": {},
   "outputs": [],
   "source": [
    "a = ['리뷰',\n",
    " '차단',\n",
    " '광고',\n",
    " '시작',\n",
    " '상담',\n",
    " '짜증',\n",
    " '불편',\n",
    " '팝업',\n",
    " '품절',\n",
    " '상품',\n",
    " '물건',\n",
    " '쿠팡',\n",
    " '뉴스',\n",
    " '필요', '시작', '광고비', '품절', '상품', '광고', '낚시질', '짜증', '필요', '불편', '차단', '유튜브', '페북', '낚시', '쿠팡', '뉴스', '물건', '리뷰', '팝업', '상담', '허위']"
   ]
  },
  {
   "cell_type": "code",
   "execution_count": 50,
   "metadata": {},
   "outputs": [
    {
     "output_type": "execute_result",
     "data": {
      "text/plain": [
       "['팝업',\n",
       " '상담',\n",
       " '짜증',\n",
       " '뉴스',\n",
       " '시작',\n",
       " '리뷰',\n",
       " '낚시',\n",
       " '유튜브',\n",
       " '불편',\n",
       " '광고비',\n",
       " '광고',\n",
       " '물건',\n",
       " '허위',\n",
       " '낚시질',\n",
       " '상품',\n",
       " '차단',\n",
       " '품절',\n",
       " '쿠팡',\n",
       " '필요',\n",
       " '페북']"
      ]
     },
     "metadata": {},
     "execution_count": 50
    }
   ],
   "source": [
    "list(set(a))"
   ]
  },
  {
   "cell_type": "code",
   "execution_count": null,
   "metadata": {},
   "outputs": [],
   "source": []
  }
 ]
}