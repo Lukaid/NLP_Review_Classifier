{
 "metadata": {
  "language_info": {
   "codemirror_mode": {
    "name": "ipython",
    "version": 3
   },
   "file_extension": ".py",
   "mimetype": "text/x-python",
   "name": "python",
   "nbconvert_exporter": "python",
   "pygments_lexer": "ipython3",
   "version": "3.9.4"
  },
  "orig_nbformat": 2,
  "kernelspec": {
   "name": "python394jvsc74a57bd063fd5069d213b44bf678585dea6b12cceca9941eaf7f819626cde1f2670de90d",
   "display_name": "Python 3.9.4 64-bit"
  },
  "metadata": {
   "interpreter": {
    "hash": "63fd5069d213b44bf678585dea6b12cceca9941eaf7f819626cde1f2670de90d"
   }
  }
 },
 "nbformat": 4,
 "nbformat_minor": 2,
 "cells": [
  {
   "cell_type": "code",
   "execution_count": 1,
   "metadata": {},
   "outputs": [],
   "source": [
    "import pandas as pd"
   ]
  },
  {
   "cell_type": "code",
   "execution_count": 30,
   "metadata": {},
   "outputs": [
    {
     "output_type": "execute_result",
     "data": {
      "text/plain": [
       "                                                  Review Sentiment  Goods  \\\n",
       "0      내일 도착 보장 이 라던 물건 도 몇 개 의 물건 을 재 출고 해서 받 은 적 도 ...  negative      1   \n",
       "1      로켓 배송 하 다가 . . 다른 일반 배송 못 하 겠 어요 ~ 쿠팡 완전 최고 예요...  positive      1   \n",
       "2                                          정말 유용 한 앱 입니다  positive      0   \n",
       "3            고객 님 께서 쿠팡 매장 거래 하 는 일 좋 습니다 그리고 애용 할 만 합니다  positive      0   \n",
       "4                                               정말 재미있 다  positive      0   \n",
       "...                                                  ...       ...    ...   \n",
       "62370      아니 무슨 업데이트 를 밥 먹 듯 합니까 적당히 좀 하 시 죠 해도 뭐 똑같 던데  negative      0   \n",
       "62371        Please develop app in English language also  positive      0   \n",
       "62372  Overall its a very good shopping app but does ...  positive      0   \n",
       "62373                                         삭제 부탁 드립니다  negative      0   \n",
       "62374                                        Все отлично  positive      0   \n",
       "\n",
       "       App  Delivery  Payment  CS  Price  Marketing  AD  \n",
       "0        0         1        0   0      0          0   0  \n",
       "1        0         1        0   0      0          0   0  \n",
       "2        1         0        0   0      0          0   0  \n",
       "3        0         0        0   1      0          0   0  \n",
       "4        0         0        0   0      0          0   0  \n",
       "...    ...       ...      ...  ..    ...        ...  ..  \n",
       "62370    1         0        0   0      0          0   0  \n",
       "62371    0         0        0   0      0          0   0  \n",
       "62372    0         0        0   0      0          0   0  \n",
       "62373    0         0        0   0      0          0   0  \n",
       "62374    0         0        0   0      0          0   0  \n",
       "\n",
       "[62375 rows x 10 columns]"
      ],
      "text/html": "<div>\n<style scoped>\n    .dataframe tbody tr th:only-of-type {\n        vertical-align: middle;\n    }\n\n    .dataframe tbody tr th {\n        vertical-align: top;\n    }\n\n    .dataframe thead th {\n        text-align: right;\n    }\n</style>\n<table border=\"1\" class=\"dataframe\">\n  <thead>\n    <tr style=\"text-align: right;\">\n      <th></th>\n      <th>Review</th>\n      <th>Sentiment</th>\n      <th>Goods</th>\n      <th>App</th>\n      <th>Delivery</th>\n      <th>Payment</th>\n      <th>CS</th>\n      <th>Price</th>\n      <th>Marketing</th>\n      <th>AD</th>\n    </tr>\n  </thead>\n  <tbody>\n    <tr>\n      <th>0</th>\n      <td>내일 도착 보장 이 라던 물건 도 몇 개 의 물건 을 재 출고 해서 받 은 적 도 ...</td>\n      <td>negative</td>\n      <td>1</td>\n      <td>0</td>\n      <td>1</td>\n      <td>0</td>\n      <td>0</td>\n      <td>0</td>\n      <td>0</td>\n      <td>0</td>\n    </tr>\n    <tr>\n      <th>1</th>\n      <td>로켓 배송 하 다가 . . 다른 일반 배송 못 하 겠 어요 ~ 쿠팡 완전 최고 예요...</td>\n      <td>positive</td>\n      <td>1</td>\n      <td>0</td>\n      <td>1</td>\n      <td>0</td>\n      <td>0</td>\n      <td>0</td>\n      <td>0</td>\n      <td>0</td>\n    </tr>\n    <tr>\n      <th>2</th>\n      <td>정말 유용 한 앱 입니다</td>\n      <td>positive</td>\n      <td>0</td>\n      <td>1</td>\n      <td>0</td>\n      <td>0</td>\n      <td>0</td>\n      <td>0</td>\n      <td>0</td>\n      <td>0</td>\n    </tr>\n    <tr>\n      <th>3</th>\n      <td>고객 님 께서 쿠팡 매장 거래 하 는 일 좋 습니다 그리고 애용 할 만 합니다</td>\n      <td>positive</td>\n      <td>0</td>\n      <td>0</td>\n      <td>0</td>\n      <td>0</td>\n      <td>1</td>\n      <td>0</td>\n      <td>0</td>\n      <td>0</td>\n    </tr>\n    <tr>\n      <th>4</th>\n      <td>정말 재미있 다</td>\n      <td>positive</td>\n      <td>0</td>\n      <td>0</td>\n      <td>0</td>\n      <td>0</td>\n      <td>0</td>\n      <td>0</td>\n      <td>0</td>\n      <td>0</td>\n    </tr>\n    <tr>\n      <th>...</th>\n      <td>...</td>\n      <td>...</td>\n      <td>...</td>\n      <td>...</td>\n      <td>...</td>\n      <td>...</td>\n      <td>...</td>\n      <td>...</td>\n      <td>...</td>\n      <td>...</td>\n    </tr>\n    <tr>\n      <th>62370</th>\n      <td>아니 무슨 업데이트 를 밥 먹 듯 합니까 적당히 좀 하 시 죠 해도 뭐 똑같 던데</td>\n      <td>negative</td>\n      <td>0</td>\n      <td>1</td>\n      <td>0</td>\n      <td>0</td>\n      <td>0</td>\n      <td>0</td>\n      <td>0</td>\n      <td>0</td>\n    </tr>\n    <tr>\n      <th>62371</th>\n      <td>Please develop app in English language also</td>\n      <td>positive</td>\n      <td>0</td>\n      <td>0</td>\n      <td>0</td>\n      <td>0</td>\n      <td>0</td>\n      <td>0</td>\n      <td>0</td>\n      <td>0</td>\n    </tr>\n    <tr>\n      <th>62372</th>\n      <td>Overall its a very good shopping app but does ...</td>\n      <td>positive</td>\n      <td>0</td>\n      <td>0</td>\n      <td>0</td>\n      <td>0</td>\n      <td>0</td>\n      <td>0</td>\n      <td>0</td>\n      <td>0</td>\n    </tr>\n    <tr>\n      <th>62373</th>\n      <td>삭제 부탁 드립니다</td>\n      <td>negative</td>\n      <td>0</td>\n      <td>0</td>\n      <td>0</td>\n      <td>0</td>\n      <td>0</td>\n      <td>0</td>\n      <td>0</td>\n      <td>0</td>\n    </tr>\n    <tr>\n      <th>62374</th>\n      <td>Все отлично</td>\n      <td>positive</td>\n      <td>0</td>\n      <td>0</td>\n      <td>0</td>\n      <td>0</td>\n      <td>0</td>\n      <td>0</td>\n      <td>0</td>\n      <td>0</td>\n    </tr>\n  </tbody>\n</table>\n<p>62375 rows × 10 columns</p>\n</div>"
     },
     "metadata": {},
     "execution_count": 30
    }
   ],
   "source": [
    "coupang_Total_Topic = pd.read_table('coupang_Total.clean_topic.tsv').iloc[:, 2:]\n",
    "coupang_Total_Senti = pd.read_table('pred_coupang_Total.tsv', header=None)\n",
    "coupang_Total_Senti.columns = ['Sentiment', 'Review']q\n",
    "coupang_Total_Senti = coupang_Total_Senti[['Review', 'Sentiment']]\n",
    "coupang_Total_Predict = pd.concat([coupang_Total_Senti, coupang_Total_Topic], axis=1)\n",
    "coupang_Total_Predict"
   ]
  },
  {
   "cell_type": "code",
   "execution_count": 31,
   "metadata": {},
   "outputs": [
    {
     "output_type": "execute_result",
     "data": {
      "text/plain": [
       "                                                 Review Sentiment  Goods  App  \\\n",
       "0                                              좋 아용 굿 굿  positive      0    0   \n",
       "1                                                     굳  positive      0    0   \n",
       "2                                                     굿  positive      0    0   \n",
       "3     악 성 광고 지긋지긋하 다 스팸 메일 이랑 다를 게 뭐 야 ? 국가 손해 배상 뜨 ...  negative      0    0   \n",
       "4                                             팝업 그만 띄워라  negative      0    0   \n",
       "...                                                 ...       ...    ...  ...   \n",
       "1467                     참 편리 한 세상 이런 기분 처음 이 라 너무 좋 네요  positive      0    0   \n",
       "1468                                               좋 아요  positive      0    0   \n",
       "1469                     할인 이 많 고 보 기 편해서 자주 이용 하 게 됩니다  positive      1    0   \n",
       "1470                                 좋 습니다 좋 아요 저렴 하 네요  positive      0    0   \n",
       "1471               업데이트 이후 장바구니 에서 계속 에러 나 네요 수정 해 주 세요  negative      0    1   \n",
       "\n",
       "      Delivery  Payment  CS  Price  Marketing  AD  \n",
       "0            0        0   0      0          0   0  \n",
       "1            0        0   0      0          0   0  \n",
       "2            0        0   0      0          0   0  \n",
       "3            0        0   0      0          0   1  \n",
       "4            0        0   0      0          0   1  \n",
       "...        ...      ...  ..    ...        ...  ..  \n",
       "1467         0        0   0      0          0   0  \n",
       "1468         0        0   0      0          0   0  \n",
       "1469         0        0   0      1          0   0  \n",
       "1470         0        0   0      0          0   0  \n",
       "1471         0        0   0      0          0   0  \n",
       "\n",
       "[1472 rows x 10 columns]"
      ],
      "text/html": "<div>\n<style scoped>\n    .dataframe tbody tr th:only-of-type {\n        vertical-align: middle;\n    }\n\n    .dataframe tbody tr th {\n        vertical-align: top;\n    }\n\n    .dataframe thead th {\n        text-align: right;\n    }\n</style>\n<table border=\"1\" class=\"dataframe\">\n  <thead>\n    <tr style=\"text-align: right;\">\n      <th></th>\n      <th>Review</th>\n      <th>Sentiment</th>\n      <th>Goods</th>\n      <th>App</th>\n      <th>Delivery</th>\n      <th>Payment</th>\n      <th>CS</th>\n      <th>Price</th>\n      <th>Marketing</th>\n      <th>AD</th>\n    </tr>\n  </thead>\n  <tbody>\n    <tr>\n      <th>0</th>\n      <td>좋 아용 굿 굿</td>\n      <td>positive</td>\n      <td>0</td>\n      <td>0</td>\n      <td>0</td>\n      <td>0</td>\n      <td>0</td>\n      <td>0</td>\n      <td>0</td>\n      <td>0</td>\n    </tr>\n    <tr>\n      <th>1</th>\n      <td>굳</td>\n      <td>positive</td>\n      <td>0</td>\n      <td>0</td>\n      <td>0</td>\n      <td>0</td>\n      <td>0</td>\n      <td>0</td>\n      <td>0</td>\n      <td>0</td>\n    </tr>\n    <tr>\n      <th>2</th>\n      <td>굿</td>\n      <td>positive</td>\n      <td>0</td>\n      <td>0</td>\n      <td>0</td>\n      <td>0</td>\n      <td>0</td>\n      <td>0</td>\n      <td>0</td>\n      <td>0</td>\n    </tr>\n    <tr>\n      <th>3</th>\n      <td>악 성 광고 지긋지긋하 다 스팸 메일 이랑 다를 게 뭐 야 ? 국가 손해 배상 뜨 ...</td>\n      <td>negative</td>\n      <td>0</td>\n      <td>0</td>\n      <td>0</td>\n      <td>0</td>\n      <td>0</td>\n      <td>0</td>\n      <td>0</td>\n      <td>1</td>\n    </tr>\n    <tr>\n      <th>4</th>\n      <td>팝업 그만 띄워라</td>\n      <td>negative</td>\n      <td>0</td>\n      <td>0</td>\n      <td>0</td>\n      <td>0</td>\n      <td>0</td>\n      <td>0</td>\n      <td>0</td>\n      <td>1</td>\n    </tr>\n    <tr>\n      <th>...</th>\n      <td>...</td>\n      <td>...</td>\n      <td>...</td>\n      <td>...</td>\n      <td>...</td>\n      <td>...</td>\n      <td>...</td>\n      <td>...</td>\n      <td>...</td>\n      <td>...</td>\n    </tr>\n    <tr>\n      <th>1467</th>\n      <td>참 편리 한 세상 이런 기분 처음 이 라 너무 좋 네요</td>\n      <td>positive</td>\n      <td>0</td>\n      <td>0</td>\n      <td>0</td>\n      <td>0</td>\n      <td>0</td>\n      <td>0</td>\n      <td>0</td>\n      <td>0</td>\n    </tr>\n    <tr>\n      <th>1468</th>\n      <td>좋 아요</td>\n      <td>positive</td>\n      <td>0</td>\n      <td>0</td>\n      <td>0</td>\n      <td>0</td>\n      <td>0</td>\n      <td>0</td>\n      <td>0</td>\n      <td>0</td>\n    </tr>\n    <tr>\n      <th>1469</th>\n      <td>할인 이 많 고 보 기 편해서 자주 이용 하 게 됩니다</td>\n      <td>positive</td>\n      <td>1</td>\n      <td>0</td>\n      <td>0</td>\n      <td>0</td>\n      <td>0</td>\n      <td>1</td>\n      <td>0</td>\n      <td>0</td>\n    </tr>\n    <tr>\n      <th>1470</th>\n      <td>좋 습니다 좋 아요 저렴 하 네요</td>\n      <td>positive</td>\n      <td>0</td>\n      <td>0</td>\n      <td>0</td>\n      <td>0</td>\n      <td>0</td>\n      <td>0</td>\n      <td>0</td>\n      <td>0</td>\n    </tr>\n    <tr>\n      <th>1471</th>\n      <td>업데이트 이후 장바구니 에서 계속 에러 나 네요 수정 해 주 세요</td>\n      <td>negative</td>\n      <td>0</td>\n      <td>1</td>\n      <td>0</td>\n      <td>0</td>\n      <td>0</td>\n      <td>0</td>\n      <td>0</td>\n      <td>0</td>\n    </tr>\n  </tbody>\n</table>\n<p>1472 rows × 10 columns</p>\n</div>"
     },
     "metadata": {},
     "execution_count": 31
    }
   ],
   "source": [
    "SSG_Before_DT_Topic = pd.read_table('SSG_Before_DT.clean_topic.tsv').iloc[:, 2:]\n",
    "SSG_Before_DT_Senti = pd.read_table('pred_SSG_Before_DT.tsv', header=None)\n",
    "SSG_Before_DT_Senti.columns = ['Sentiment', 'Review']\n",
    "SSG_Before_DT_Senti = SSG_Before_DT_Senti[['Review', 'Sentiment']]\n",
    "SSG_Before_DT_Predict = pd.concat([SSG_Before_DT_Senti, SSG_Before_DT_Topic], axis=1)\n",
    "SSG_Before_DT_Predict"
   ]
  },
  {
   "cell_type": "code",
   "execution_count": 32,
   "metadata": {},
   "outputs": [
    {
     "output_type": "execute_result",
     "data": {
      "text/plain": [
       "                                                 Review Sentiment  Goods  App  \\\n",
       "0                                            봤 어 223322  positive      0    0   \n",
       "1     이마트 양재 오픈 이래 온 오프라인 꾸 준 고객 인데 , 과일 부분 에서 경쟁력 있...  negative      1    0   \n",
       "2            마트 , 백화점 , 아울렛 까지 모든 상품 의 온라인 구매 가 편리 해요 .  positive      1    0   \n",
       "3                                            원활 하 게 잘 됨  negative      0    0   \n",
       "4                             한예슬 씨 광고 보 다가 내 가 당첨 ? ㅠㅠ  negative      0    0   \n",
       "...                                                 ...       ...    ...  ...   \n",
       "1851  신세계 모든 온라인 쇼핑 및 포인트 가 통합 되 어 있 어 굉장히 편리 함 ! 마켓...  positive      0    0   \n",
       "1852      한 번 에 백화점 부터 마트 상품 까지 편리 한 쇼핑 도와 줘 자주 오 게 됩니다  positive      1    0   \n",
       "1853                              한 번 에 계산 이 되 면 좋 겠 어요  positive      0    0   \n",
       "1854                                                 보통  negative      0    0   \n",
       "1855  마음 에 들 어요 . 이전 에 는 다른 색 을 구매 했었 는데 여름철 신기 기 편하...  positive      1    0   \n",
       "\n",
       "      Delivery  Payment  CS  Price  Marketing  AD  \n",
       "0            0        0   0      0          0   0  \n",
       "1            1        0   1      1          0   0  \n",
       "2            0        0   0      0          0   0  \n",
       "3            0        0   0      0          0   0  \n",
       "4            0        0   0      0          0   1  \n",
       "...        ...      ...  ..    ...        ...  ..  \n",
       "1851         0        0   0      0          1   0  \n",
       "1852         0        0   0      0          0   0  \n",
       "1853         0        0   0      0          0   0  \n",
       "1854         0        0   0      0          0   0  \n",
       "1855         0        0   0      0          0   0  \n",
       "\n",
       "[1856 rows x 10 columns]"
      ],
      "text/html": "<div>\n<style scoped>\n    .dataframe tbody tr th:only-of-type {\n        vertical-align: middle;\n    }\n\n    .dataframe tbody tr th {\n        vertical-align: top;\n    }\n\n    .dataframe thead th {\n        text-align: right;\n    }\n</style>\n<table border=\"1\" class=\"dataframe\">\n  <thead>\n    <tr style=\"text-align: right;\">\n      <th></th>\n      <th>Review</th>\n      <th>Sentiment</th>\n      <th>Goods</th>\n      <th>App</th>\n      <th>Delivery</th>\n      <th>Payment</th>\n      <th>CS</th>\n      <th>Price</th>\n      <th>Marketing</th>\n      <th>AD</th>\n    </tr>\n  </thead>\n  <tbody>\n    <tr>\n      <th>0</th>\n      <td>봤 어 223322</td>\n      <td>positive</td>\n      <td>0</td>\n      <td>0</td>\n      <td>0</td>\n      <td>0</td>\n      <td>0</td>\n      <td>0</td>\n      <td>0</td>\n      <td>0</td>\n    </tr>\n    <tr>\n      <th>1</th>\n      <td>이마트 양재 오픈 이래 온 오프라인 꾸 준 고객 인데 , 과일 부분 에서 경쟁력 있...</td>\n      <td>negative</td>\n      <td>1</td>\n      <td>0</td>\n      <td>1</td>\n      <td>0</td>\n      <td>1</td>\n      <td>1</td>\n      <td>0</td>\n      <td>0</td>\n    </tr>\n    <tr>\n      <th>2</th>\n      <td>마트 , 백화점 , 아울렛 까지 모든 상품 의 온라인 구매 가 편리 해요 .</td>\n      <td>positive</td>\n      <td>1</td>\n      <td>0</td>\n      <td>0</td>\n      <td>0</td>\n      <td>0</td>\n      <td>0</td>\n      <td>0</td>\n      <td>0</td>\n    </tr>\n    <tr>\n      <th>3</th>\n      <td>원활 하 게 잘 됨</td>\n      <td>negative</td>\n      <td>0</td>\n      <td>0</td>\n      <td>0</td>\n      <td>0</td>\n      <td>0</td>\n      <td>0</td>\n      <td>0</td>\n      <td>0</td>\n    </tr>\n    <tr>\n      <th>4</th>\n      <td>한예슬 씨 광고 보 다가 내 가 당첨 ? ㅠㅠ</td>\n      <td>negative</td>\n      <td>0</td>\n      <td>0</td>\n      <td>0</td>\n      <td>0</td>\n      <td>0</td>\n      <td>0</td>\n      <td>0</td>\n      <td>1</td>\n    </tr>\n    <tr>\n      <th>...</th>\n      <td>...</td>\n      <td>...</td>\n      <td>...</td>\n      <td>...</td>\n      <td>...</td>\n      <td>...</td>\n      <td>...</td>\n      <td>...</td>\n      <td>...</td>\n      <td>...</td>\n    </tr>\n    <tr>\n      <th>1851</th>\n      <td>신세계 모든 온라인 쇼핑 및 포인트 가 통합 되 어 있 어 굉장히 편리 함 ! 마켓...</td>\n      <td>positive</td>\n      <td>0</td>\n      <td>0</td>\n      <td>0</td>\n      <td>0</td>\n      <td>0</td>\n      <td>0</td>\n      <td>1</td>\n      <td>0</td>\n    </tr>\n    <tr>\n      <th>1852</th>\n      <td>한 번 에 백화점 부터 마트 상품 까지 편리 한 쇼핑 도와 줘 자주 오 게 됩니다</td>\n      <td>positive</td>\n      <td>1</td>\n      <td>0</td>\n      <td>0</td>\n      <td>0</td>\n      <td>0</td>\n      <td>0</td>\n      <td>0</td>\n      <td>0</td>\n    </tr>\n    <tr>\n      <th>1853</th>\n      <td>한 번 에 계산 이 되 면 좋 겠 어요</td>\n      <td>positive</td>\n      <td>0</td>\n      <td>0</td>\n      <td>0</td>\n      <td>0</td>\n      <td>0</td>\n      <td>0</td>\n      <td>0</td>\n      <td>0</td>\n    </tr>\n    <tr>\n      <th>1854</th>\n      <td>보통</td>\n      <td>negative</td>\n      <td>0</td>\n      <td>0</td>\n      <td>0</td>\n      <td>0</td>\n      <td>0</td>\n      <td>0</td>\n      <td>0</td>\n      <td>0</td>\n    </tr>\n    <tr>\n      <th>1855</th>\n      <td>마음 에 들 어요 . 이전 에 는 다른 색 을 구매 했었 는데 여름철 신기 기 편하...</td>\n      <td>positive</td>\n      <td>1</td>\n      <td>0</td>\n      <td>0</td>\n      <td>0</td>\n      <td>0</td>\n      <td>0</td>\n      <td>0</td>\n      <td>0</td>\n    </tr>\n  </tbody>\n</table>\n<p>1856 rows × 10 columns</p>\n</div>"
     },
     "metadata": {},
     "execution_count": 32
    }
   ],
   "source": [
    "SSG_After_DT_Topic = pd.read_table('SSG_After_DT.clean_topic.tsv').iloc[:, 2:]\n",
    "SSG_After_DT_Senti = pd.read_table('pred_SSG_After_DT.tsv', header=None)\n",
    "SSG_After_DT_Senti.columns = ['Sentiment', 'Review']\n",
    "SSG_After_DT_Senti = SSG_After_DT_Senti[['Review', 'Sentiment']]\n",
    "SSG_After_DT_Predict = pd.concat([SSG_After_DT_Senti, SSG_After_DT_Topic], axis=1)\n",
    "SSG_After_DT_Predict"
   ]
  },
  {
   "cell_type": "code",
   "execution_count": 33,
   "metadata": {},
   "outputs": [
    {
     "output_type": "execute_result",
     "data": {
      "text/plain": [
       "                                                 Review Sentiment  Goods  App  \\\n",
       "0     업데이트 도 되 지 않 고 갑자기 앱 실행 도 안 되 네요 롯데 닷컴 이용 말 라는...  negative      1    1   \n",
       "1     어 플 이 먹통 이 네요 업데이트 하 라 해서 업 뎃눌렸더니 더 이상 실행 되 지 ...  negative      1    1   \n",
       "2     빠른 신상품 안내 와 날 마다 다른 할인 특가 로 잊어버린 쿠폰 까지 챙겨 주 셔서...  positive      1    0   \n",
       "3     왜 갑자기 어 플 실행 이 안 되 나요 . 오늘 주문 해야 하 는 상품 이 있 는데...  negative      1    1   \n",
       "4                         업 뎃 이후 면 다시 알람 이 설정 되 는 쓰레기 앱  negative      0    1   \n",
       "...                                                 ...       ...    ...  ...   \n",
       "1193  이 앱 왜 이래요 ? 하도 속도 가 느리 고 버벅 여서 삭제 하 고 재 설치 하 니...  negative      1    1   \n",
       "1194                                                좋 다  positive      0    0   \n",
       "1195  고객 센터 에서 는 정상 운행 되 고 있 다고 하 고 고객 은 튕겨져 나가 고 앱 ...  negative      0    1   \n",
       "1196  진심 쓰레기 로그인 안 되 서 비번 바꾸 고 다시 해도 로그인 안 되 서 전화 했 ...  negative      0    1   \n",
       "1197                      자동 할인 적용 되 서 간편 하 게 쓰 기 좋 아 여  positive      0    1   \n",
       "\n",
       "      Delivery  Payment  CS  Price  Marketing  AD  \n",
       "0            0        0   0      0          0   0  \n",
       "1            1        1   1      0          0   0  \n",
       "2            0        0   0      1          1   0  \n",
       "3            0        0   0      0          0   0  \n",
       "4            0        0   0      0          0   0  \n",
       "...        ...      ...  ..    ...        ...  ..  \n",
       "1193         0        1   1      0          0   0  \n",
       "1194         0        0   0      0          0   0  \n",
       "1195         0        1   1      0          0   0  \n",
       "1196         0        1   1      0          0   0  \n",
       "1197         0        0   0      1          0   0  \n",
       "\n",
       "[1198 rows x 10 columns]"
      ],
      "text/html": "<div>\n<style scoped>\n    .dataframe tbody tr th:only-of-type {\n        vertical-align: middle;\n    }\n\n    .dataframe tbody tr th {\n        vertical-align: top;\n    }\n\n    .dataframe thead th {\n        text-align: right;\n    }\n</style>\n<table border=\"1\" class=\"dataframe\">\n  <thead>\n    <tr style=\"text-align: right;\">\n      <th></th>\n      <th>Review</th>\n      <th>Sentiment</th>\n      <th>Goods</th>\n      <th>App</th>\n      <th>Delivery</th>\n      <th>Payment</th>\n      <th>CS</th>\n      <th>Price</th>\n      <th>Marketing</th>\n      <th>AD</th>\n    </tr>\n  </thead>\n  <tbody>\n    <tr>\n      <th>0</th>\n      <td>업데이트 도 되 지 않 고 갑자기 앱 실행 도 안 되 네요 롯데 닷컴 이용 말 라는...</td>\n      <td>negative</td>\n      <td>1</td>\n      <td>1</td>\n      <td>0</td>\n      <td>0</td>\n      <td>0</td>\n      <td>0</td>\n      <td>0</td>\n      <td>0</td>\n    </tr>\n    <tr>\n      <th>1</th>\n      <td>어 플 이 먹통 이 네요 업데이트 하 라 해서 업 뎃눌렸더니 더 이상 실행 되 지 ...</td>\n      <td>negative</td>\n      <td>1</td>\n      <td>1</td>\n      <td>1</td>\n      <td>1</td>\n      <td>1</td>\n      <td>0</td>\n      <td>0</td>\n      <td>0</td>\n    </tr>\n    <tr>\n      <th>2</th>\n      <td>빠른 신상품 안내 와 날 마다 다른 할인 특가 로 잊어버린 쿠폰 까지 챙겨 주 셔서...</td>\n      <td>positive</td>\n      <td>1</td>\n      <td>0</td>\n      <td>0</td>\n      <td>0</td>\n      <td>0</td>\n      <td>1</td>\n      <td>1</td>\n      <td>0</td>\n    </tr>\n    <tr>\n      <th>3</th>\n      <td>왜 갑자기 어 플 실행 이 안 되 나요 . 오늘 주문 해야 하 는 상품 이 있 는데...</td>\n      <td>negative</td>\n      <td>1</td>\n      <td>1</td>\n      <td>0</td>\n      <td>0</td>\n      <td>0</td>\n      <td>0</td>\n      <td>0</td>\n      <td>0</td>\n    </tr>\n    <tr>\n      <th>4</th>\n      <td>업 뎃 이후 면 다시 알람 이 설정 되 는 쓰레기 앱</td>\n      <td>negative</td>\n      <td>0</td>\n      <td>1</td>\n      <td>0</td>\n      <td>0</td>\n      <td>0</td>\n      <td>0</td>\n      <td>0</td>\n      <td>0</td>\n    </tr>\n    <tr>\n      <th>...</th>\n      <td>...</td>\n      <td>...</td>\n      <td>...</td>\n      <td>...</td>\n      <td>...</td>\n      <td>...</td>\n      <td>...</td>\n      <td>...</td>\n      <td>...</td>\n      <td>...</td>\n    </tr>\n    <tr>\n      <th>1193</th>\n      <td>이 앱 왜 이래요 ? 하도 속도 가 느리 고 버벅 여서 삭제 하 고 재 설치 하 니...</td>\n      <td>negative</td>\n      <td>1</td>\n      <td>1</td>\n      <td>0</td>\n      <td>1</td>\n      <td>1</td>\n      <td>0</td>\n      <td>0</td>\n      <td>0</td>\n    </tr>\n    <tr>\n      <th>1194</th>\n      <td>좋 다</td>\n      <td>positive</td>\n      <td>0</td>\n      <td>0</td>\n      <td>0</td>\n      <td>0</td>\n      <td>0</td>\n      <td>0</td>\n      <td>0</td>\n      <td>0</td>\n    </tr>\n    <tr>\n      <th>1195</th>\n      <td>고객 센터 에서 는 정상 운행 되 고 있 다고 하 고 고객 은 튕겨져 나가 고 앱 ...</td>\n      <td>negative</td>\n      <td>0</td>\n      <td>1</td>\n      <td>0</td>\n      <td>1</td>\n      <td>1</td>\n      <td>0</td>\n      <td>0</td>\n      <td>0</td>\n    </tr>\n    <tr>\n      <th>1196</th>\n      <td>진심 쓰레기 로그인 안 되 서 비번 바꾸 고 다시 해도 로그인 안 되 서 전화 했 ...</td>\n      <td>negative</td>\n      <td>0</td>\n      <td>1</td>\n      <td>0</td>\n      <td>1</td>\n      <td>1</td>\n      <td>0</td>\n      <td>0</td>\n      <td>0</td>\n    </tr>\n    <tr>\n      <th>1197</th>\n      <td>자동 할인 적용 되 서 간편 하 게 쓰 기 좋 아 여</td>\n      <td>positive</td>\n      <td>0</td>\n      <td>1</td>\n      <td>0</td>\n      <td>0</td>\n      <td>0</td>\n      <td>1</td>\n      <td>0</td>\n      <td>0</td>\n    </tr>\n  </tbody>\n</table>\n<p>1198 rows × 10 columns</p>\n</div>"
     },
     "metadata": {},
     "execution_count": 33
    }
   ],
   "source": [
    "LotteOn_Before_DT_Topic = pd.read_table('LotteOn_Before_DT.clean_topic.tsv').iloc[:, 2:]\n",
    "LotteOn_Before_DT_Senti = pd.read_table('pred_LotteOn_Before_DT.tsv', header=None)\n",
    "LotteOn_Before_DT_Senti.columns = ['Sentiment', 'Review']\n",
    "LotteOn_Before_DT_Senti = LotteOn_Before_DT_Senti[['Review', 'Sentiment']]\n",
    "LotteOn_Before_DT_Predict = pd.concat([LotteOn_Before_DT_Senti, LotteOn_Before_DT_Topic], axis=1)\n",
    "LotteOn_Before_DT_Predict"
   ]
  },
  {
   "cell_type": "code",
   "execution_count": 34,
   "metadata": {},
   "outputs": [
    {
     "output_type": "execute_result",
     "data": {
      "text/plain": [
       "                                                 Review Sentiment  Goods  App  \\\n",
       "0               이걸 이제 알 아서 쓰 다니 … ㅠㅠ 지난 날 의 쇼핑 이 생각나 네요  negative      0    0   \n",
       "1                                  쿠폰 을 자주 줘서 자주 구매 합니다  positive      1    0   \n",
       "2                       앞 으로 더 신경 써서 관리 해 주 세요 고맙 습니다 ~  positive      0    0   \n",
       "3                                 항상 좋 게 사용 하 고 있 습니다 ~  positive      1    0   \n",
       "4                                           지름신 접선 ! !!  positive      0    0   \n",
       "...                                                 ...       ...    ...  ...   \n",
       "7581                          출근길 퇴근길 에 출석 도장 맨날 찍 어요 ~  positive      0    0   \n",
       "7582                                         롯데 온 잘 하 네  positive      0    0   \n",
       "7583  맨날 집 앞 에 롭스 매장 갈 때 마다 귀찮 았 는데 요즘 롯 데온 에서 그냥 배송...  positive      0    0   \n",
       "7584                                   봄옷 왕창 주문 햇 어요 ~~  positive      1    1   \n",
       "7585  사방팔방 정체불명 으로 흩어져 있 는 수많 은 롯데 시리즈 들 . 각자 난립 하 는...  negative      1    1   \n",
       "\n",
       "      Delivery  Payment  CS  Price  Marketing  AD  \n",
       "0            0        0   0      0          0   0  \n",
       "1            0        0   0      0          1   0  \n",
       "2            0        0   1      0          0   0  \n",
       "3            0        0   0      0          0   0  \n",
       "4            0        0   0      0          0   0  \n",
       "...        ...      ...  ..    ...        ...  ..  \n",
       "7581         0        0   0      0          1   0  \n",
       "7582         0        0   0      0          0   0  \n",
       "7583         1        0   0      0          0   0  \n",
       "7584         0        0   0      0          0   0  \n",
       "7585         0        0   1      0          1   0  \n",
       "\n",
       "[7586 rows x 10 columns]"
      ],
      "text/html": "<div>\n<style scoped>\n    .dataframe tbody tr th:only-of-type {\n        vertical-align: middle;\n    }\n\n    .dataframe tbody tr th {\n        vertical-align: top;\n    }\n\n    .dataframe thead th {\n        text-align: right;\n    }\n</style>\n<table border=\"1\" class=\"dataframe\">\n  <thead>\n    <tr style=\"text-align: right;\">\n      <th></th>\n      <th>Review</th>\n      <th>Sentiment</th>\n      <th>Goods</th>\n      <th>App</th>\n      <th>Delivery</th>\n      <th>Payment</th>\n      <th>CS</th>\n      <th>Price</th>\n      <th>Marketing</th>\n      <th>AD</th>\n    </tr>\n  </thead>\n  <tbody>\n    <tr>\n      <th>0</th>\n      <td>이걸 이제 알 아서 쓰 다니 … ㅠㅠ 지난 날 의 쇼핑 이 생각나 네요</td>\n      <td>negative</td>\n      <td>0</td>\n      <td>0</td>\n      <td>0</td>\n      <td>0</td>\n      <td>0</td>\n      <td>0</td>\n      <td>0</td>\n      <td>0</td>\n    </tr>\n    <tr>\n      <th>1</th>\n      <td>쿠폰 을 자주 줘서 자주 구매 합니다</td>\n      <td>positive</td>\n      <td>1</td>\n      <td>0</td>\n      <td>0</td>\n      <td>0</td>\n      <td>0</td>\n      <td>0</td>\n      <td>1</td>\n      <td>0</td>\n    </tr>\n    <tr>\n      <th>2</th>\n      <td>앞 으로 더 신경 써서 관리 해 주 세요 고맙 습니다 ~</td>\n      <td>positive</td>\n      <td>0</td>\n      <td>0</td>\n      <td>0</td>\n      <td>0</td>\n      <td>1</td>\n      <td>0</td>\n      <td>0</td>\n      <td>0</td>\n    </tr>\n    <tr>\n      <th>3</th>\n      <td>항상 좋 게 사용 하 고 있 습니다 ~</td>\n      <td>positive</td>\n      <td>1</td>\n      <td>0</td>\n      <td>0</td>\n      <td>0</td>\n      <td>0</td>\n      <td>0</td>\n      <td>0</td>\n      <td>0</td>\n    </tr>\n    <tr>\n      <th>4</th>\n      <td>지름신 접선 ! !!</td>\n      <td>positive</td>\n      <td>0</td>\n      <td>0</td>\n      <td>0</td>\n      <td>0</td>\n      <td>0</td>\n      <td>0</td>\n      <td>0</td>\n      <td>0</td>\n    </tr>\n    <tr>\n      <th>...</th>\n      <td>...</td>\n      <td>...</td>\n      <td>...</td>\n      <td>...</td>\n      <td>...</td>\n      <td>...</td>\n      <td>...</td>\n      <td>...</td>\n      <td>...</td>\n      <td>...</td>\n    </tr>\n    <tr>\n      <th>7581</th>\n      <td>출근길 퇴근길 에 출석 도장 맨날 찍 어요 ~</td>\n      <td>positive</td>\n      <td>0</td>\n      <td>0</td>\n      <td>0</td>\n      <td>0</td>\n      <td>0</td>\n      <td>0</td>\n      <td>1</td>\n      <td>0</td>\n    </tr>\n    <tr>\n      <th>7582</th>\n      <td>롯데 온 잘 하 네</td>\n      <td>positive</td>\n      <td>0</td>\n      <td>0</td>\n      <td>0</td>\n      <td>0</td>\n      <td>0</td>\n      <td>0</td>\n      <td>0</td>\n      <td>0</td>\n    </tr>\n    <tr>\n      <th>7583</th>\n      <td>맨날 집 앞 에 롭스 매장 갈 때 마다 귀찮 았 는데 요즘 롯 데온 에서 그냥 배송...</td>\n      <td>positive</td>\n      <td>0</td>\n      <td>0</td>\n      <td>1</td>\n      <td>0</td>\n      <td>0</td>\n      <td>0</td>\n      <td>0</td>\n      <td>0</td>\n    </tr>\n    <tr>\n      <th>7584</th>\n      <td>봄옷 왕창 주문 햇 어요 ~~</td>\n      <td>positive</td>\n      <td>1</td>\n      <td>1</td>\n      <td>0</td>\n      <td>0</td>\n      <td>0</td>\n      <td>0</td>\n      <td>0</td>\n      <td>0</td>\n    </tr>\n    <tr>\n      <th>7585</th>\n      <td>사방팔방 정체불명 으로 흩어져 있 는 수많 은 롯데 시리즈 들 . 각자 난립 하 는...</td>\n      <td>negative</td>\n      <td>1</td>\n      <td>1</td>\n      <td>0</td>\n      <td>0</td>\n      <td>1</td>\n      <td>0</td>\n      <td>1</td>\n      <td>0</td>\n    </tr>\n  </tbody>\n</table>\n<p>7586 rows × 10 columns</p>\n</div>"
     },
     "metadata": {},
     "execution_count": 34
    }
   ],
   "source": [
    "LotteOn_After_DT_Topic = pd.read_table('LotteOn_After_DT.clean_topic.tsv').iloc[:, 2:]\n",
    "LotteOn_After_DT_Senti = pd.read_table('pred_LotteOn_After_DT.tsv', header=None)\n",
    "LotteOn_After_DT_Senti.columns = ['Sentiment', 'Review']\n",
    "LotteOn_After_DT_Senti = LotteOn_After_DT_Senti[['Review', 'Sentiment']]\n",
    "LotteOn_After_DT_Predict = pd.concat([LotteOn_After_DT_Senti, LotteOn_After_DT_Topic], axis=1)\n",
    "LotteOn_After_DT_Predict"
   ]
  }
 ]
}